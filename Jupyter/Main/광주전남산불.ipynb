{
 "cells": [
  {
   "cell_type": "code",
   "execution_count": 12,
   "id": "73722605-c0bd-4757-ba3a-dd3e8479b680",
   "metadata": {},
   "outputs": [
    {
     "data": {
      "text/html": [
       "<div>\n",
       "<style scoped>\n",
       "    .dataframe tbody tr th:only-of-type {\n",
       "        vertical-align: middle;\n",
       "    }\n",
       "\n",
       "    .dataframe tbody tr th {\n",
       "        vertical-align: top;\n",
       "    }\n",
       "\n",
       "    .dataframe thead th {\n",
       "        text-align: right;\n",
       "    }\n",
       "</style>\n",
       "<table border=\"1\" class=\"dataframe\">\n",
       "  <thead>\n",
       "    <tr style=\"text-align: right;\">\n",
       "      <th></th>\n",
       "      <th>발생일시_년</th>\n",
       "      <th>발생장소_관서</th>\n",
       "      <th>피해면적_합계</th>\n",
       "    </tr>\n",
       "  </thead>\n",
       "  <tbody>\n",
       "    <tr>\n",
       "      <th>0</th>\n",
       "      <td>2022</td>\n",
       "      <td>전남</td>\n",
       "      <td>0.02</td>\n",
       "    </tr>\n",
       "    <tr>\n",
       "      <th>1</th>\n",
       "      <td>2022</td>\n",
       "      <td>경북</td>\n",
       "      <td>0.01</td>\n",
       "    </tr>\n",
       "    <tr>\n",
       "      <th>2</th>\n",
       "      <td>2022</td>\n",
       "      <td>울산</td>\n",
       "      <td>0.20</td>\n",
       "    </tr>\n",
       "    <tr>\n",
       "      <th>3</th>\n",
       "      <td>2022</td>\n",
       "      <td>경북</td>\n",
       "      <td>1.30</td>\n",
       "    </tr>\n",
       "    <tr>\n",
       "      <th>4</th>\n",
       "      <td>2022</td>\n",
       "      <td>경북</td>\n",
       "      <td>0.10</td>\n",
       "    </tr>\n",
       "  </tbody>\n",
       "</table>\n",
       "</div>"
      ],
      "text/plain": [
       "   발생일시_년 발생장소_관서  피해면적_합계\n",
       "0    2022      전남     0.02\n",
       "1    2022      경북     0.01\n",
       "2    2022      울산     0.20\n",
       "3    2022      경북     1.30\n",
       "4    2022      경북     0.10"
      ]
     },
     "execution_count": 12,
     "metadata": {},
     "output_type": "execute_result"
    }
   ],
   "source": [
    "import pandas as pd\n",
    "df = pd.read_excel('new_sanbul.xls')\n",
    "df.head()"
   ]
  },
  {
   "cell_type": "code",
   "execution_count": 15,
   "id": "99f20037-aa59-4863-aa7c-a7c60e821de8",
   "metadata": {},
   "outputs": [
    {
     "data": {
      "text/html": [
       "<div>\n",
       "<style scoped>\n",
       "    .dataframe tbody tr th:only-of-type {\n",
       "        vertical-align: middle;\n",
       "    }\n",
       "\n",
       "    .dataframe tbody tr th {\n",
       "        vertical-align: top;\n",
       "    }\n",
       "\n",
       "    .dataframe thead th {\n",
       "        text-align: right;\n",
       "    }\n",
       "</style>\n",
       "<table border=\"1\" class=\"dataframe\">\n",
       "  <thead>\n",
       "    <tr style=\"text-align: right;\">\n",
       "      <th></th>\n",
       "      <th>발생일시_년</th>\n",
       "      <th>발생장소_관서</th>\n",
       "      <th>피해면적_합계</th>\n",
       "    </tr>\n",
       "  </thead>\n",
       "  <tbody>\n",
       "    <tr>\n",
       "      <th>0</th>\n",
       "      <td>2022</td>\n",
       "      <td>전남</td>\n",
       "      <td>0.02</td>\n",
       "    </tr>\n",
       "    <tr>\n",
       "      <th>15</th>\n",
       "      <td>2022</td>\n",
       "      <td>전남</td>\n",
       "      <td>0.03</td>\n",
       "    </tr>\n",
       "    <tr>\n",
       "      <th>19</th>\n",
       "      <td>2022</td>\n",
       "      <td>전남</td>\n",
       "      <td>0.05</td>\n",
       "    </tr>\n",
       "    <tr>\n",
       "      <th>27</th>\n",
       "      <td>2022</td>\n",
       "      <td>전남</td>\n",
       "      <td>0.05</td>\n",
       "    </tr>\n",
       "    <tr>\n",
       "      <th>28</th>\n",
       "      <td>2022</td>\n",
       "      <td>전남</td>\n",
       "      <td>0.10</td>\n",
       "    </tr>\n",
       "  </tbody>\n",
       "</table>\n",
       "</div>"
      ],
      "text/plain": [
       "    발생일시_년 발생장소_관서  피해면적_합계\n",
       "0     2022      전남     0.02\n",
       "15    2022      전남     0.03\n",
       "19    2022      전남     0.05\n",
       "27    2022      전남     0.05\n",
       "28    2022      전남     0.10"
      ]
     },
     "execution_count": 15,
     "metadata": {},
     "output_type": "execute_result"
    }
   ],
   "source": [
    "condition = (df['발생장소_관서'] == '전남') | (df['발생장소_관서'] == '광주')\n",
    "new_df = df[condition]\n",
    "new_df.head()"
   ]
  },
  {
   "cell_type": "code",
   "execution_count": 16,
   "id": "830511d2-5930-4aa0-863a-2e6ca547aebf",
   "metadata": {},
   "outputs": [],
   "source": [
    "y3 = len(new_df.loc[new_df['발생일시_년'] == 2013])\n",
    "y4 = len(new_df.loc[new_df['발생일시_년'] == 2014])\n",
    "y5 = len(new_df.loc[new_df['발생일시_년'] == 2015])\n",
    "y6 = len(new_df.loc[new_df['발생일시_년'] == 2016])\n",
    "y7 = len(new_df.loc[new_df['발생일시_년'] == 2017])\n",
    "y8 = len(new_df.loc[new_df['발생일시_년'] == 2018])\n",
    "y9 = len(new_df.loc[new_df['발생일시_년'] == 2019])\n",
    "y0 = len(new_df.loc[new_df['발생일시_년'] == 2020])\n",
    "y1 = len(new_df.loc[new_df['발생일시_년'] == 2021])\n",
    "y2 = len(new_df.loc[new_df['발생일시_년'] == 2022])"
   ]
  },
  {
   "cell_type": "code",
   "execution_count": 17,
   "id": "3443f1b4-a885-4185-acf9-d86239d18a17",
   "metadata": {},
   "outputs": [
    {
     "data": {
      "text/plain": [
       "{'2013': 60,\n",
       " '2014': 79,\n",
       " '2015': 56,\n",
       " '2016': 24,\n",
       " '2017': 33,\n",
       " '2018': 41,\n",
       " '2019': 39,\n",
       " '2020': 38,\n",
       " '2021': 33,\n",
       " '2022': 59}"
      ]
     },
     "execution_count": 17,
     "metadata": {},
     "output_type": "execute_result"
    }
   ],
   "source": [
    "data = []\n",
    "data = {\"2013\": y3, \"2014\": y4, \"2015\": y5, \"2016\": y6, \"2017\": y7, \"2018\": y8, \n",
    "        \"2019\": y9, \"2020\": y0, \"2021\": y1, \"2022\": y2}\n",
    "data"
   ]
  },
  {
   "cell_type": "code",
   "execution_count": null,
   "id": "93a7360e-dd02-4b08-b9f1-556de514fba7",
   "metadata": {},
   "outputs": [],
   "source": []
  }
 ],
 "metadata": {
  "kernelspec": {
   "display_name": "Python 3 (ipykernel)",
   "language": "python",
   "name": "python3"
  },
  "language_info": {
   "codemirror_mode": {
    "name": "ipython",
    "version": 3
   },
   "file_extension": ".py",
   "mimetype": "text/x-python",
   "name": "python",
   "nbconvert_exporter": "python",
   "pygments_lexer": "ipython3",
   "version": "3.9.12"
  }
 },
 "nbformat": 4,
 "nbformat_minor": 5
}
