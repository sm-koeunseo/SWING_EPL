{
 "cells": [
  {
   "cell_type": "code",
   "execution_count": 10,
   "id": "51f4a667",
   "metadata": {
    "scrolled": true
   },
   "outputs": [
    {
     "data": {
      "text/html": [
       "<div>\n",
       "<style scoped>\n",
       "    .dataframe tbody tr th:only-of-type {\n",
       "        vertical-align: middle;\n",
       "    }\n",
       "\n",
       "    .dataframe tbody tr th {\n",
       "        vertical-align: top;\n",
       "    }\n",
       "\n",
       "    .dataframe thead th {\n",
       "        text-align: right;\n",
       "    }\n",
       "</style>\n",
       "<table border=\"1\" class=\"dataframe\">\n",
       "  <thead>\n",
       "    <tr style=\"text-align: right;\">\n",
       "      <th></th>\n",
       "      <th>발생일시_년</th>\n",
       "      <th>발생일시_월</th>\n",
       "      <th>발생장소_시도</th>\n",
       "      <th>피해면적_합계</th>\n",
       "    </tr>\n",
       "  </thead>\n",
       "  <tbody>\n",
       "    <tr>\n",
       "      <th>0</th>\n",
       "      <td>2022</td>\n",
       "      <td>12</td>\n",
       "      <td>전라남도</td>\n",
       "      <td>0.02</td>\n",
       "    </tr>\n",
       "    <tr>\n",
       "      <th>1</th>\n",
       "      <td>2022</td>\n",
       "      <td>12</td>\n",
       "      <td>경상북도</td>\n",
       "      <td>0.01</td>\n",
       "    </tr>\n",
       "    <tr>\n",
       "      <th>2</th>\n",
       "      <td>2022</td>\n",
       "      <td>12</td>\n",
       "      <td>경상북도</td>\n",
       "      <td>0.20</td>\n",
       "    </tr>\n",
       "    <tr>\n",
       "      <th>3</th>\n",
       "      <td>2022</td>\n",
       "      <td>12</td>\n",
       "      <td>경상북도</td>\n",
       "      <td>0.10</td>\n",
       "    </tr>\n",
       "    <tr>\n",
       "      <th>4</th>\n",
       "      <td>2022</td>\n",
       "      <td>12</td>\n",
       "      <td>경상남도</td>\n",
       "      <td>2.00</td>\n",
       "    </tr>\n",
       "  </tbody>\n",
       "</table>\n",
       "</div>"
      ],
      "text/plain": [
       "   발생일시_년  발생일시_월 발생장소_시도  피해면적_합계\n",
       "0    2022      12    전라남도     0.02\n",
       "1    2022      12    경상북도     0.01\n",
       "2    2022      12    경상북도     0.20\n",
       "3    2022      12    경상북도     0.10\n",
       "4    2022      12    경상남도     2.00"
      ]
     },
     "execution_count": 10,
     "metadata": {},
     "output_type": "execute_result"
    }
   ],
   "source": [
    "import pandas as pd\n",
    "df = pd.read_csv('C:/Users/82105/Desktop/전국산불.csv', encoding = 'cp949')\n",
    "df.head()"
   ]
  },
  {
   "cell_type": "raw",
   "id": "fa2bf12c",
   "metadata": {},
   "source": []
  },
  {
   "cell_type": "code",
   "execution_count": 15,
   "id": "2ee13ee7",
   "metadata": {},
   "outputs": [
    {
     "name": "stdout",
     "output_type": "stream",
     "text": [
      "2.9794594594594597\n",
      "38.48064102564102\n",
      "14.344255319148935\n",
      "11.610388349514562\n",
      "0.5573626373626374\n",
      "1.89768\n",
      "0.2743835616438356\n",
      "0.26805555555555555\n"
     ]
    }
   ],
   "source": [
    "filtered_df = df[(df['발생일시_년'] == 2020) & (df['발생장소_시도'] == '강원도')]\n",
    "gwangwon = filtered_df['피해면적_합계'].mean()\n",
    "print(gwangwon)\n",
    "filtered_df = df[(df['발생일시_년'] == 2019) & (df['발생장소_시도'] == '강원도')]\n",
    "gwangwon = filtered_df['피해면적_합계'].mean()\n",
    "print(gwangwon)\n",
    "filtered_df = df[(df['발생일시_년'] == 2018) & (df['발생장소_시도'] == '강원도')]\n",
    "gwangwon = filtered_df['피해면적_합계'].mean()\n",
    "print(gwangwon)\n",
    "filtered_df = df[(df['발생일시_년'] == 2017) & (df['발생장소_시도'] == '강원도')]\n",
    "gwangwon = filtered_df['피해면적_합계'].mean()\n",
    "print(gwangwon)\n",
    "filtered_df = df[(df['발생일시_년'] == 2016) & (df['발생장소_시도'] == '강원도')]\n",
    "gwangwon = filtered_df['피해면적_합계'].mean()\n",
    "print(gwangwon)\n",
    "filtered_df = df[(df['발생일시_년'] == 2015) & (df['발생장소_시도'] == '강원도')]\n",
    "gwangwon = filtered_df['피해면적_합계'].mean()\n",
    "print(gwangwon)\n",
    "filtered_df = df[(df['발생일시_년'] == 2014) & (df['발생장소_시도'] == '강원도')]\n",
    "gwangwon = filtered_df['피해면적_합계'].mean()\n",
    "print(gwangwon)\n",
    "filtered_df = df[(df['발생일시_년'] == 2013) & (df['발생장소_시도'] == '강원도')]\n",
    "gwangwon = filtered_df['피해면적_합계'].mean()\n",
    "print(gwangwon)"
   ]
  },
  {
   "cell_type": "code",
   "execution_count": 16,
   "id": "cc65512b",
   "metadata": {},
   "outputs": [
    {
     "name": "stdout",
     "output_type": "stream",
     "text": [
      "0.22750000000000004\n",
      "0.3505405405405405\n",
      "0.1605128205128205\n",
      "0.13121212121212122\n",
      "0.07391304347826087\n",
      "0.2490196078431372\n",
      "0.3573972602739726\n",
      "0.6511320754716979\n"
     ]
    }
   ],
   "source": [
    "filtered_df = df[(df['발생일시_년'] == 2020) & (df['발생장소_시도'] == '전라남도')]\n",
    "gwangwon = filtered_df['피해면적_합계'].mean()\n",
    "print(gwangwon)\n",
    "filtered_df = df[(df['발생일시_년'] == 2019) & (df['발생장소_시도'] == '전라남도')]\n",
    "gwangwon = filtered_df['피해면적_합계'].mean()\n",
    "print(gwangwon)\n",
    "filtered_df = df[(df['발생일시_년'] == 2018) & (df['발생장소_시도'] == '전라남도')]\n",
    "gwangwon = filtered_df['피해면적_합계'].mean()\n",
    "print(gwangwon)\n",
    "filtered_df = df[(df['발생일시_년'] == 2017) & (df['발생장소_시도'] == '전라남도')]\n",
    "gwangwon = filtered_df['피해면적_합계'].mean()\n",
    "print(gwangwon)\n",
    "filtered_df = df[(df['발생일시_년'] == 2016) & (df['발생장소_시도'] == '전라남도')]\n",
    "gwangwon = filtered_df['피해면적_합계'].mean()\n",
    "print(gwangwon)\n",
    "filtered_df = df[(df['발생일시_년'] == 2015) & (df['발생장소_시도'] == '전라남도')]\n",
    "gwangwon = filtered_df['피해면적_합계'].mean()\n",
    "print(gwangwon)\n",
    "filtered_df = df[(df['발생일시_년'] == 2014) & (df['발생장소_시도'] == '전라남도')]\n",
    "gwangwon = filtered_df['피해면적_합계'].mean()\n",
    "print(gwangwon)\n",
    "filtered_df = df[(df['발생일시_년'] == 2013) & (df['발생장소_시도'] == '전라남도')]\n",
    "gwangwon = filtered_df['피해면적_합계'].mean()\n",
    "print(gwangwon)"
   ]
  },
  {
   "cell_type": "code",
   "execution_count": 17,
   "id": "72b2c8f7",
   "metadata": {},
   "outputs": [
    {
     "name": "stdout",
     "output_type": "stream",
     "text": [
      "18.462285714285716\n",
      "0.7158571428571431\n",
      "0.9545299145299145\n",
      "1.2542446043165467\n",
      "3.071964285714286\n",
      "0.35628571428571426\n",
      "0.4087096774193548\n",
      "7.176065573770493\n"
     ]
    }
   ],
   "source": [
    "filtered_df = df[(df['발생일시_년'] == 2020) & (df['발생장소_시도'] == '경상북도')]\n",
    "gwangwon = filtered_df['피해면적_합계'].mean()\n",
    "print(gwangwon)\n",
    "filtered_df = df[(df['발생일시_년'] == 2019) & (df['발생장소_시도'] == '경상북도')]\n",
    "gwangwon = filtered_df['피해면적_합계'].mean()\n",
    "print(gwangwon)\n",
    "filtered_df = df[(df['발생일시_년'] == 2018) & (df['발생장소_시도'] == '경상북도')]\n",
    "gwangwon = filtered_df['피해면적_합계'].mean()\n",
    "print(gwangwon)\n",
    "filtered_df = df[(df['발생일시_년'] == 2017) & (df['발생장소_시도'] == '경상북도')]\n",
    "gwangwon = filtered_df['피해면적_합계'].mean()\n",
    "print(gwangwon)\n",
    "filtered_df = df[(df['발생일시_년'] == 2016) & (df['발생장소_시도'] == '경상북도')]\n",
    "gwangwon = filtered_df['피해면적_합계'].mean()\n",
    "print(gwangwon)\n",
    "filtered_df = df[(df['발생일시_년'] == 2015) & (df['발생장소_시도'] == '경상북도')]\n",
    "gwangwon = filtered_df['피해면적_합계'].mean()\n",
    "print(gwangwon)\n",
    "filtered_df = df[(df['발생일시_년'] == 2014) & (df['발생장소_시도'] == '경상북도')]\n",
    "gwangwon = filtered_df['피해면적_합계'].mean()\n",
    "print(gwangwon)\n",
    "filtered_df = df[(df['발생일시_년'] == 2013) & (df['발생장소_시도'] == '경상북도')]\n",
    "gwangwon = filtered_df['피해면적_합계'].mean()\n",
    "print(gwangwon)"
   ]
  },
  {
   "cell_type": "code",
   "execution_count": 18,
   "id": "f8e955bf",
   "metadata": {},
   "outputs": [
    {
     "name": "stdout",
     "output_type": "stream",
     "text": [
      "0.4491525423728815\n",
      "0.9004444444444444\n",
      "0.8560919540229885\n",
      "0.13831168831168833\n",
      "0.14684210526315788\n",
      "0.26692307692307693\n",
      "0.18960000000000002\n",
      "0.5008771929824561\n"
     ]
    }
   ],
   "source": [
    "filtered_df = df[(df['발생일시_년'] == 2020) & (df['발생장소_시도'] == '경상남도')]\n",
    "gwangwon = filtered_df['피해면적_합계'].mean()\n",
    "print(gwangwon)\n",
    "filtered_df = df[(df['발생일시_년'] == 2019) & (df['발생장소_시도'] == '경상남도')]\n",
    "gwangwon = filtered_df['피해면적_합계'].mean()\n",
    "print(gwangwon)\n",
    "filtered_df = df[(df['발생일시_년'] == 2018) & (df['발생장소_시도'] == '경상남도')]\n",
    "gwangwon = filtered_df['피해면적_합계'].mean()\n",
    "print(gwangwon)\n",
    "filtered_df = df[(df['발생일시_년'] == 2017) & (df['발생장소_시도'] == '경상남도')]\n",
    "gwangwon = filtered_df['피해면적_합계'].mean()\n",
    "print(gwangwon)\n",
    "filtered_df = df[(df['발생일시_년'] == 2016) & (df['발생장소_시도'] == '경상남도')]\n",
    "gwangwon = filtered_df['피해면적_합계'].mean()\n",
    "print(gwangwon)\n",
    "filtered_df = df[(df['발생일시_년'] == 2015) & (df['발생장소_시도'] == '경상남도')]\n",
    "gwangwon = filtered_df['피해면적_합계'].mean()\n",
    "print(gwangwon)\n",
    "filtered_df = df[(df['발생일시_년'] == 2014) & (df['발생장소_시도'] == '경상남도')]\n",
    "gwangwon = filtered_df['피해면적_합계'].mean()\n",
    "print(gwangwon)\n",
    "filtered_df = df[(df['발생일시_년'] == 2013) & (df['발생장소_시도'] == '경상남도')]\n",
    "gwangwon = filtered_df['피해면적_합계'].mean()\n",
    "print(gwangwon)"
   ]
  },
  {
   "cell_type": "code",
   "execution_count": 22,
   "id": "238a2dac",
   "metadata": {},
   "outputs": [
    {
     "name": "stdout",
     "output_type": "stream",
     "text": [
      "0.12826086956521737\n",
      "0.14913043478260865\n",
      "0.15310344827586203\n",
      "0.12916666666666668\n",
      "0.09769230769230772\n",
      "0.15285714285714286\n",
      "0.1958620689655172\n",
      "0.390625\n"
     ]
    }
   ],
   "source": [
    "filtered_df = df[(df['발생일시_년'] == 2020) & (df['발생장소_시도'] == '전라북도')]\n",
    "gwangwon = filtered_df['피해면적_합계'].mean()\n",
    "print(gwangwon)\n",
    "filtered_df = df[(df['발생일시_년'] == 2019) & (df['발생장소_시도'] == '전라북도')]\n",
    "gwangwon = filtered_df['피해면적_합계'].mean()\n",
    "print(gwangwon)\n",
    "filtered_df = df[(df['발생일시_년'] == 2018) & (df['발생장소_시도'] == '전라북도')]\n",
    "gwangwon = filtered_df['피해면적_합계'].mean()\n",
    "print(gwangwon)\n",
    "filtered_df = df[(df['발생일시_년'] == 2017) & (df['발생장소_시도'] == '전라북도')]\n",
    "gwangwon = filtered_df['피해면적_합계'].mean()\n",
    "print(gwangwon)\n",
    "filtered_df = df[(df['발생일시_년'] == 2016) & (df['발생장소_시도'] == '전라북도')]\n",
    "gwangwon = filtered_df['피해면적_합계'].mean()\n",
    "print(gwangwon)\n",
    "filtered_df = df[(df['발생일시_년'] == 2015) & (df['발생장소_시도'] == '전라북도')]\n",
    "gwangwon = filtered_df['피해면적_합계'].mean()\n",
    "print(gwangwon)\n",
    "filtered_df = df[(df['발생일시_년'] == 2014) & (df['발생장소_시도'] == '전라북도')]\n",
    "gwangwon = filtered_df['피해면적_합계'].mean()\n",
    "print(gwangwon)\n",
    "filtered_df = df[(df['발생일시_년'] == 2013) & (df['발생장소_시도'] == '전라북도')]\n",
    "gwangwon = filtered_df['피해면적_합계'].mean()\n",
    "print(gwangwon)"
   ]
  },
  {
   "cell_type": "code",
   "execution_count": null,
   "id": "5b60f78a",
   "metadata": {},
   "outputs": [],
   "source": []
  }
 ],
 "metadata": {
  "kernelspec": {
   "display_name": "Python 3 (ipykernel)",
   "language": "python",
   "name": "python3"
  },
  "language_info": {
   "codemirror_mode": {
    "name": "ipython",
    "version": 3
   },
   "file_extension": ".py",
   "mimetype": "text/x-python",
   "name": "python",
   "nbconvert_exporter": "python",
   "pygments_lexer": "ipython3",
   "version": "3.10.9"
  }
 },
 "nbformat": 4,
 "nbformat_minor": 5
}
