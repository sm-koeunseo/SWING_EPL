{
 "cells": [
  {
   "cell_type": "code",
   "execution_count": 2,
   "id": "244125ff-d7dd-4e19-a746-db91d47dcb00",
   "metadata": {},
   "outputs": [],
   "source": [
    "import pandas as pd\n",
    "import numpy as np"
   ]
  },
  {
   "cell_type": "code",
   "execution_count": 6,
   "id": "edc77dd3-ca51-4c27-82a6-0b071bf98e95",
   "metadata": {},
   "outputs": [
    {
     "data": {
      "text/html": [
       "<div>\n",
       "<style scoped>\n",
       "    .dataframe tbody tr th:only-of-type {\n",
       "        vertical-align: middle;\n",
       "    }\n",
       "\n",
       "    .dataframe tbody tr th {\n",
       "        vertical-align: top;\n",
       "    }\n",
       "\n",
       "    .dataframe thead th {\n",
       "        text-align: right;\n",
       "    }\n",
       "</style>\n",
       "<table border=\"1\" class=\"dataframe\">\n",
       "  <thead>\n",
       "    <tr style=\"text-align: right;\">\n",
       "      <th></th>\n",
       "      <th>시도</th>\n",
       "      <th>피해시작일</th>\n",
       "    </tr>\n",
       "  </thead>\n",
       "  <tbody>\n",
       "    <tr>\n",
       "      <th>0</th>\n",
       "      <td>경기도</td>\n",
       "      <td>2013</td>\n",
       "    </tr>\n",
       "    <tr>\n",
       "      <th>1</th>\n",
       "      <td>경기도</td>\n",
       "      <td>2013</td>\n",
       "    </tr>\n",
       "    <tr>\n",
       "      <th>2</th>\n",
       "      <td>경상북도</td>\n",
       "      <td>2013</td>\n",
       "    </tr>\n",
       "    <tr>\n",
       "      <th>3</th>\n",
       "      <td>경기도</td>\n",
       "      <td>2013</td>\n",
       "    </tr>\n",
       "    <tr>\n",
       "      <th>4</th>\n",
       "      <td>경상북도</td>\n",
       "      <td>2013</td>\n",
       "    </tr>\n",
       "  </tbody>\n",
       "</table>\n",
       "</div>"
      ],
      "text/plain": [
       "     시도  피해시작일\n",
       "0   경기도   2013\n",
       "1   경기도   2013\n",
       "2  경상북도   2013\n",
       "3   경기도   2013\n",
       "4  경상북도   2013"
      ]
     },
     "execution_count": 6,
     "metadata": {},
     "output_type": "execute_result"
    }
   ],
   "source": [
    "df = pd.read_csv('damage.csv', encoding='cp949')\n",
    "df.head()"
   ]
  },
  {
   "cell_type": "code",
   "execution_count": 7,
   "id": "87eaa241-72e5-4977-a808-0087c1755398",
   "metadata": {},
   "outputs": [
    {
     "data": {
      "text/plain": [
       "array(['경기도', '경상북도', '전라남도', '경상남도', '충청남도', '강원도', '전라북도', '충청북도'],\n",
       "      dtype=object)"
      ]
     },
     "execution_count": 7,
     "metadata": {},
     "output_type": "execute_result"
    }
   ],
   "source": [
    "df['시도'].unique()"
   ]
  },
  {
   "cell_type": "code",
   "execution_count": 8,
   "id": "abbc45e2-d399-478f-bc52-3f6e22610353",
   "metadata": {},
   "outputs": [
    {
     "name": "stdout",
     "output_type": "stream",
     "text": [
      "4\n",
      "26\n",
      "59\n",
      "41\n",
      "86\n",
      "52\n",
      "66\n",
      "9\n"
     ]
    }
   ],
   "source": [
    "count = len(df[(df['시도'] == '경기도') & (df['피해시작일'] == 2013)])\n",
    "print(count)\n",
    "count = len(df[(df['시도'] == '경기도') & (df['피해시작일'] == 2014)])\n",
    "print(count)\n",
    "count = len(df[(df['시도'] == '경기도') & (df['피해시작일'] == 2015)])\n",
    "print(count)\n",
    "count = len(df[(df['시도'] == '경기도') & (df['피해시작일'] == 2016)])\n",
    "print(count)\n",
    "count = len(df[(df['시도'] == '경기도') & (df['피해시작일'] == 2017)])\n",
    "print(count)\n",
    "count = len(df[(df['시도'] == '경기도') & (df['피해시작일'] == 2018)])\n",
    "print(count)\n",
    "count = len(df[(df['시도'] == '경기도') & (df['피해시작일'] == 2019)])\n",
    "print(count)\n",
    "count = len(df[(df['시도'] == '경기도') & (df['피해시작일'] == 2020)])\n",
    "print(count)"
   ]
  },
  {
   "cell_type": "code",
   "execution_count": 9,
   "id": "63d12749-5a57-49d6-adbf-7d28f5c75e57",
   "metadata": {},
   "outputs": [
    {
     "name": "stdout",
     "output_type": "stream",
     "text": [
      "7\n",
      "17\n",
      "51\n",
      "28\n",
      "21\n",
      "20\n",
      "8\n",
      "4\n"
     ]
    }
   ],
   "source": [
    "count = len(df[(df['시도'] == '경상북도') & (df['피해시작일'] == 2013)])\n",
    "print(count)\n",
    "count = len(df[(df['시도'] == '경상북도') & (df['피해시작일'] == 2014)])\n",
    "print(count)\n",
    "count = len(df[(df['시도'] == '경상북도') & (df['피해시작일'] == 2015)])\n",
    "print(count)\n",
    "count = len(df[(df['시도'] == '경상북도') & (df['피해시작일'] == 2016)])\n",
    "print(count)\n",
    "count = len(df[(df['시도'] == '경상북도') & (df['피해시작일'] == 2017)])\n",
    "print(count)\n",
    "count = len(df[(df['시도'] == '경상북도') & (df['피해시작일'] == 2018)])\n",
    "print(count)\n",
    "count = len(df[(df['시도'] == '경상북도') & (df['피해시작일'] == 2019)])\n",
    "print(count)\n",
    "count = len(df[(df['시도'] == '경상북도') & (df['피해시작일'] == 2020)])\n",
    "print(count)"
   ]
  },
  {
   "cell_type": "code",
   "execution_count": 10,
   "id": "5b7623ce-b68d-41b0-bfe9-fe2c995fca56",
   "metadata": {},
   "outputs": [
    {
     "name": "stdout",
     "output_type": "stream",
     "text": [
      "8\n",
      "3\n",
      "4\n",
      "18\n",
      "34\n",
      "6\n",
      "7\n",
      "11\n"
     ]
    }
   ],
   "source": [
    "count = len(df[(df['시도'] == '전라남도') & (df['피해시작일'] == 2013)])\n",
    "print(count)\n",
    "count = len(df[(df['시도'] == '전라남도') & (df['피해시작일'] == 2014)])\n",
    "print(count)\n",
    "count = len(df[(df['시도'] == '전라남도') & (df['피해시작일'] == 2015)])\n",
    "print(count)\n",
    "count = len(df[(df['시도'] == '전라남도') & (df['피해시작일'] == 2016)])\n",
    "print(count)\n",
    "count = len(df[(df['시도'] == '전라남도') & (df['피해시작일'] == 2017)])\n",
    "print(count)\n",
    "count = len(df[(df['시도'] == '전라남도') & (df['피해시작일'] == 2018)])\n",
    "print(count)\n",
    "count = len(df[(df['시도'] == '전라남도') & (df['피해시작일'] == 2019)])\n",
    "print(count)\n",
    "count = len(df[(df['시도'] == '전라남도') & (df['피해시작일'] == 2020)])\n",
    "print(count)"
   ]
  },
  {
   "cell_type": "code",
   "execution_count": 11,
   "id": "48f1a473-7a56-48e9-9303-7e1d21542663",
   "metadata": {},
   "outputs": [
    {
     "name": "stdout",
     "output_type": "stream",
     "text": [
      "3\n",
      "5\n",
      "0\n",
      "0\n",
      "7\n",
      "7\n",
      "4\n",
      "2\n"
     ]
    }
   ],
   "source": [
    "count = len(df[(df['시도'] == '경상남도') & (df['피해시작일'] == 2013)])\n",
    "print(count)\n",
    "count = len(df[(df['시도'] == '경상남도') & (df['피해시작일'] == 2014)])\n",
    "print(count)\n",
    "count = len(df[(df['시도'] == '경상남도') & (df['피해시작일'] == 2015)])\n",
    "print(count)\n",
    "count = len(df[(df['시도'] == '경상남도') & (df['피해시작일'] == 2016)])\n",
    "print(count)\n",
    "count = len(df[(df['시도'] == '경상남도') & (df['피해시작일'] == 2017)])\n",
    "print(count)\n",
    "count = len(df[(df['시도'] == '경상남도') & (df['피해시작일'] == 2018)])\n",
    "print(count)\n",
    "count = len(df[(df['시도'] == '경상남도') & (df['피해시작일'] == 2019)])\n",
    "print(count)\n",
    "count = len(df[(df['시도'] == '경상남도') & (df['피해시작일'] == 2020)])\n",
    "print(count)"
   ]
  },
  {
   "cell_type": "code",
   "execution_count": 12,
   "id": "77a66e6f-76c7-4275-9000-b1ffdbf0b6e1",
   "metadata": {},
   "outputs": [
    {
     "name": "stdout",
     "output_type": "stream",
     "text": [
      "0\n",
      "7\n",
      "1\n",
      "4\n",
      "72\n",
      "13\n",
      "30\n",
      "2\n"
     ]
    }
   ],
   "source": [
    "count = len(df[(df['시도'] == '충청남도') & (df['피해시작일'] == 2013)])\n",
    "print(count)\n",
    "count = len(df[(df['시도'] == '충청남도') & (df['피해시작일'] == 2014)])\n",
    "print(count)\n",
    "count = len(df[(df['시도'] == '충청남도') & (df['피해시작일'] == 2015)])\n",
    "print(count)\n",
    "count = len(df[(df['시도'] == '충청남도') & (df['피해시작일'] == 2016)])\n",
    "print(count)\n",
    "count = len(df[(df['시도'] == '충청남도') & (df['피해시작일'] == 2017)])\n",
    "print(count)\n",
    "count = len(df[(df['시도'] == '충청남도') & (df['피해시작일'] == 2018)])\n",
    "print(count)\n",
    "count = len(df[(df['시도'] == '충청남도') & (df['피해시작일'] == 2019)])\n",
    "print(count)\n",
    "count = len(df[(df['시도'] == '충청남도') & (df['피해시작일'] == 2020)])\n",
    "print(count)"
   ]
  },
  {
   "cell_type": "code",
   "execution_count": 13,
   "id": "9f614869-c01c-4da1-a2ff-fd482c0f8d7a",
   "metadata": {},
   "outputs": [
    {
     "name": "stdout",
     "output_type": "stream",
     "text": [
      "0\n",
      "39\n",
      "62\n",
      "20\n",
      "58\n",
      "72\n",
      "58\n",
      "85\n"
     ]
    }
   ],
   "source": [
    "count = len(df[(df['시도'] == '강원도') & (df['피해시작일'] == 2013)])\n",
    "print(count)\n",
    "count = len(df[(df['시도'] == '강원도') & (df['피해시작일'] == 2014)])\n",
    "print(count)\n",
    "count = len(df[(df['시도'] == '강원도') & (df['피해시작일'] == 2015)])\n",
    "print(count)\n",
    "count = len(df[(df['시도'] == '강원도') & (df['피해시작일'] == 2016)])\n",
    "print(count)\n",
    "count = len(df[(df['시도'] == '강원도') & (df['피해시작일'] == 2017)])\n",
    "print(count)\n",
    "count = len(df[(df['시도'] == '강원도') & (df['피해시작일'] == 2018)])\n",
    "print(count)\n",
    "count = len(df[(df['시도'] == '강원도') & (df['피해시작일'] == 2019)])\n",
    "print(count)\n",
    "count = len(df[(df['시도'] == '강원도') & (df['피해시작일'] == 2020)])\n",
    "print(count)"
   ]
  },
  {
   "cell_type": "code",
   "execution_count": 14,
   "id": "834bef69-5656-4524-b2b5-3cc994f7ad6c",
   "metadata": {},
   "outputs": [
    {
     "name": "stdout",
     "output_type": "stream",
     "text": [
      "0\n",
      "1\n",
      "4\n",
      "25\n",
      "4\n",
      "18\n",
      "29\n",
      "0\n"
     ]
    }
   ],
   "source": [
    "count = len(df[(df['시도'] == '전라북도') & (df['피해시작일'] == 2013)])\n",
    "print(count)\n",
    "count = len(df[(df['시도'] == '전라북도') & (df['피해시작일'] == 2014)])\n",
    "print(count)\n",
    "count = len(df[(df['시도'] == '전라북도') & (df['피해시작일'] == 2015)])\n",
    "print(count)\n",
    "count = len(df[(df['시도'] == '전라북도') & (df['피해시작일'] == 2016)])\n",
    "print(count)\n",
    "count = len(df[(df['시도'] == '전라북도') & (df['피해시작일'] == 2017)])\n",
    "print(count)\n",
    "count = len(df[(df['시도'] == '전라북도') & (df['피해시작일'] == 2018)])\n",
    "print(count)\n",
    "count = len(df[(df['시도'] == '전라북도') & (df['피해시작일'] == 2019)])\n",
    "print(count)\n",
    "count = len(df[(df['시도'] == '전라북도') & (df['피해시작일'] == 2020)])\n",
    "print(count)"
   ]
  },
  {
   "cell_type": "code",
   "execution_count": null,
   "id": "d1e58ed9-639e-4185-9fb6-d2a8f5a86478",
   "metadata": {},
   "outputs": [
    {
     "name": "stdout",
     "output_type": "stream",
     "text": [
      "0\n",
      "7\n",
      "35\n",
      "11\n",
      "90\n",
      "44\n",
      "34\n",
      "7\n"
     ]
    }
   ],
   "source": [
    "count = len(df[(df['시도'] == '충청북도') & (df['피해시작일'] == 2013)])\n",
    "print(count)\n",
    "count = len(df[(df['시도'] == '충청북도') & (df['피해시작일'] == 2014)])\n",
    "print(count)\n",
    "count = len(df[(df['시도'] == '충청북도') & (df['피해시작일'] == 2015)])\n",
    "print(count)\n",
    "count = len(df[(df['시도'] == '충청북도') & (df['피해시작일'] == 2016)])\n",
    "print(count)\n",
    "count = len(df[(df['시도'] == '충청북도') & (df['피해시작일'] == 2017)])\n",
    "print(count)\n",
    "count = len(df[(df['시도'] == '충청북도') & (df['피해시작일'] == 2018)])\n",
    "print(count)\n",
    "count = len(df[(df['시도'] == '충청북도') & (df['피해시작일'] == 2019)])\n",
    "print(count)\n",
    "count = len(df[(df['시도'] == '충청북도') & (df['피해시작일'] == 2020)])\n",
    "print(count)"
   ]
  },
  {
   "cell_type": "code",
   "execution_count": null,
   "id": "fdd25d20-839b-48e7-93d4-09fdd7b59cac",
   "metadata": {},
   "outputs": [],
   "source": []
  }
 ],
 "metadata": {
  "kernelspec": {
   "display_name": "Python 3 (ipykernel)",
   "language": "python",
   "name": "python3"
  },
  "language_info": {
   "codemirror_mode": {
    "name": "ipython",
    "version": 3
   },
   "file_extension": ".py",
   "mimetype": "text/x-python",
   "name": "python",
   "nbconvert_exporter": "python",
   "pygments_lexer": "ipython3",
   "version": "3.9.12"
  }
 },
 "nbformat": 4,
 "nbformat_minor": 5
}
