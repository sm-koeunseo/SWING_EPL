{
 "cells": [
  {
   "cell_type": "code",
   "execution_count": 1,
   "id": "817a0b97-9f4e-4f4d-9d4f-218e1edb163e",
   "metadata": {},
   "outputs": [],
   "source": [
    "import pandas as pd\n",
    "import numpy as np\n",
    "\n",
    "dr= pd.read_csv('sanbulcause.csv', encoding='cp949')"
   ]
  },
  {
   "cell_type": "code",
   "execution_count": 2,
   "id": "322a75b5-cfc0-4858-9f90-9c4fa80a07a3",
   "metadata": {},
   "outputs": [
    {
     "data": {
      "text/plain": [
       "1103"
      ]
     },
     "execution_count": 2,
     "metadata": {},
     "output_type": "execute_result"
    }
   ],
   "source": [
    "len(dr['발생원인_기타'].unique())"
   ]
  },
  {
   "cell_type": "code",
   "execution_count": 3,
   "id": "2c6ddc04-14c1-4ae2-93ac-2f433132b578",
   "metadata": {},
   "outputs": [
    {
     "data": {
      "text/html": [
       "<div>\n",
       "<style scoped>\n",
       "    .dataframe tbody tr th:only-of-type {\n",
       "        vertical-align: middle;\n",
       "    }\n",
       "\n",
       "    .dataframe tbody tr th {\n",
       "        vertical-align: top;\n",
       "    }\n",
       "\n",
       "    .dataframe thead th {\n",
       "        text-align: right;\n",
       "    }\n",
       "</style>\n",
       "<table border=\"1\" class=\"dataframe\">\n",
       "  <thead>\n",
       "    <tr style=\"text-align: right;\">\n",
       "      <th></th>\n",
       "      <th>발생장소_시도</th>\n",
       "      <th>발생원인_기타</th>\n",
       "    </tr>\n",
       "  </thead>\n",
       "  <tbody>\n",
       "    <tr>\n",
       "      <th>0</th>\n",
       "      <td>전남</td>\n",
       "      <td>담뱃불실화</td>\n",
       "    </tr>\n",
       "    <tr>\n",
       "      <th>1</th>\n",
       "      <td>경북</td>\n",
       "      <td>입산자실화</td>\n",
       "    </tr>\n",
       "    <tr>\n",
       "      <th>2</th>\n",
       "      <td>울산</td>\n",
       "      <td>담뱃불실화</td>\n",
       "    </tr>\n",
       "    <tr>\n",
       "      <th>3</th>\n",
       "      <td>경북</td>\n",
       "      <td>하우스화재비화</td>\n",
       "    </tr>\n",
       "    <tr>\n",
       "      <th>4</th>\n",
       "      <td>경북</td>\n",
       "      <td>아궁이재투기</td>\n",
       "    </tr>\n",
       "    <tr>\n",
       "      <th>...</th>\n",
       "      <td>...</td>\n",
       "      <td>...</td>\n",
       "    </tr>\n",
       "    <tr>\n",
       "      <th>5363</th>\n",
       "      <td>부산</td>\n",
       "      <td>논밭두렁소각</td>\n",
       "    </tr>\n",
       "    <tr>\n",
       "      <th>5364</th>\n",
       "      <td>강원</td>\n",
       "      <td>쓰레기소각</td>\n",
       "    </tr>\n",
       "    <tr>\n",
       "      <th>5365</th>\n",
       "      <td>전남</td>\n",
       "      <td>논밭두렁소각</td>\n",
       "    </tr>\n",
       "    <tr>\n",
       "      <th>5366</th>\n",
       "      <td>제주</td>\n",
       "      <td>낚시꾼실화</td>\n",
       "    </tr>\n",
       "    <tr>\n",
       "      <th>5367</th>\n",
       "      <td>전남</td>\n",
       "      <td>작업장실화</td>\n",
       "    </tr>\n",
       "  </tbody>\n",
       "</table>\n",
       "<p>5368 rows × 2 columns</p>\n",
       "</div>"
      ],
      "text/plain": [
       "     발생장소_시도  발생원인_기타\n",
       "0         전남    담뱃불실화\n",
       "1         경북    입산자실화\n",
       "2         울산    담뱃불실화\n",
       "3         경북  하우스화재비화\n",
       "4         경북   아궁이재투기\n",
       "...      ...      ...\n",
       "5363      부산   논밭두렁소각\n",
       "5364      강원    쓰레기소각\n",
       "5365      전남   논밭두렁소각\n",
       "5366      제주    낚시꾼실화\n",
       "5367      전남    작업장실화\n",
       "\n",
       "[5368 rows x 2 columns]"
      ]
     },
     "execution_count": 3,
     "metadata": {},
     "output_type": "execute_result"
    }
   ],
   "source": [
    "dr"
   ]
  },
  {
   "cell_type": "code",
   "execution_count": 4,
   "id": "25287de4-7294-44e4-a992-7b9b40a95b6f",
   "metadata": {},
   "outputs": [
    {
     "data": {
      "text/plain": [
       "1038"
      ]
     },
     "execution_count": 4,
     "metadata": {},
     "output_type": "execute_result"
    }
   ],
   "source": [
    "human = dr.loc[(dr['발생원인_기타'] == '입산자실화')] + dr.loc[(dr['발생원인_기타'] == '등산객실화추정')] + dr.loc[(dr['발생원인_기타'] == '성묘객실화')]\n",
    "len(human)"
   ]
  },
  {
   "cell_type": "code",
   "execution_count": 5,
   "id": "ad23912d-17bc-4485-b371-b562e92f74b4",
   "metadata": {},
   "outputs": [
    {
     "data": {
      "text/plain": [
       "210"
      ]
     },
     "execution_count": 5,
     "metadata": {},
     "output_type": "execute_result"
    }
   ],
   "source": [
    "cigarette = dr.loc[(dr['발생원인_기타'] == '담뱃불실화')] + dr.loc[(dr['발생원인_기타'] == '입산자실화(담뱃불)')] + dr.loc[(dr['발생원인_기타'] == '담뱃불실화추정')]\n",
    "len(cigarette)"
   ]
  },
  {
   "cell_type": "code",
   "execution_count": 6,
   "id": "f87c25dc-548c-4a0a-96fd-9eb872439b7f",
   "metadata": {},
   "outputs": [
    {
     "data": {
      "text/plain": [
       "444"
      ]
     },
     "execution_count": 6,
     "metadata": {},
     "output_type": "execute_result"
    }
   ],
   "source": [
    "trash = dr.loc[(dr['발생원인_기타'] == '쓰레기소각')] + dr.loc[(dr['발생원인_기타'] == '생활쓰레기소각')] + dr.loc[(dr['발생원인_기타'] == '사찰내쓰레기소각')] + dr.loc[(dr['발생원인_기타'] == '쓰레기소각(실화)')] + dr.loc[(dr['발생원인_기타'] == '농산폐기물소각')] + + dr.loc[(dr['발생원인_기타'] == '쓰레기 소각 추정')]\n",
    "len(trash)"
   ]
  },
  {
   "cell_type": "code",
   "execution_count": 7,
   "id": "35d2d688-83c0-427c-bafe-ef770aa3400b",
   "metadata": {},
   "outputs": [
    {
     "data": {
      "text/plain": [
       "736"
      ]
     },
     "execution_count": 7,
     "metadata": {},
     "output_type": "execute_result"
    }
   ],
   "source": [
    "unknown = dr.loc[(dr['발생원인_기타'] == '미상')] + dr.loc[(dr['발생원인_기타'] == '원인미상')]\n",
    "len(unknown)"
   ]
  },
  {
   "cell_type": "code",
   "execution_count": 8,
   "id": "b1dce536-992e-48aa-b2d5-1f47be825dd1",
   "metadata": {},
   "outputs": [
    {
     "data": {
      "text/plain": [
       "16"
      ]
     },
     "execution_count": 8,
     "metadata": {},
     "output_type": "execute_result"
    }
   ],
   "source": [
    "thunderstroke = dr.loc[(dr['발생원인_기타'] == '낙뢰')] + dr.loc[(dr['발생원인_기타'] == '낙뢰추정')]\n",
    "len(thunderstroke)"
   ]
  },
  {
   "cell_type": "code",
   "execution_count": 9,
   "id": "f786cdb2-7a9d-4b0c-8e79-32f1773dafe5",
   "metadata": {},
   "outputs": [
    {
     "data": {
      "text/plain": [
       "54"
      ]
     },
     "execution_count": 9,
     "metadata": {},
     "output_type": "execute_result"
    }
   ],
   "source": [
    "building = dr.loc[(dr['발생원인_기타'] == '건축물실화')] + dr.loc[(dr['발생원인_기타'] == '주택화재전이')] + dr.loc[(dr['발생원인_기타'] == '건축물 실화 추정')] + dr.loc[(dr['발생원인_기타'] == '주택화재')]\n",
    "len(building)"
   ]
  },
  {
   "cell_type": "code",
   "execution_count": 10,
   "id": "ba4bd3fa-7978-4714-942b-80910d3c5915",
   "metadata": {},
   "outputs": [
    {
     "data": {
      "text/plain": [
       "37"
      ]
     },
     "execution_count": 10,
     "metadata": {},
     "output_type": "execute_result"
    }
   ],
   "source": [
    "field = dr.loc[(dr['발생원인_기타'] == '논밭두렁소각')]\n",
    "len(field)"
   ]
  },
  {
   "cell_type": "code",
   "execution_count": 11,
   "id": "68cc889d-e0df-499e-914e-ff96de44f771",
   "metadata": {},
   "outputs": [
    {
     "data": {
      "image/png": "[encoded data removed]",
      "text/plain": [
       "<Figure size 1080x576 with 1 Axes>"
      ]
     },
     "metadata": {
      "needs_background": "light"
     },
     "output_type": "display_data"
    }
   ],
   "source": [
    "import matplotlib.pyplot as plt\n",
    "\n",
    "# 데이터\n",
    "data = {\n",
    "    '발생원인': ['human', 'cigarette', 'trash', 'unknown', 'thunderstroke', 'building', 'field'],\n",
    "    '발생원인_수': [len(human), len(cigarette), len(trash), len(unknown), len(thunderstroke), len(building), len(field)]   \n",
    "}\n",
    "\n",
    "# 그래프 생성\n",
    "plt.figure(figsize=(15, 8))\n",
    "colors = ['b', 'g', 'r', 'c', 'm', 'y', 'k', 'gray', 'orange', 'purple', 'brown', 'pink', 'olive', 'teal', 'gold', 'navy', 'lime']\n",
    "plt.bar(data['발생원인'], data['발생원인_수'], color=colors)\n",
    "plt.xlabel('Cause', fontsize=15)\n",
    "plt.ylabel('Number', fontsize=15)\n",
    "plt.title('Number of Wildfire Causes', fontsize=20)\n",
    "\n",
    "plt.xticks(fontsize=15)\n",
    "\n",
    "# 그래프 출력\n",
    "plt.show()"
   ]
  },
  {
   "cell_type": "code",
   "execution_count": null,
   "id": "70ad17d3-9eec-4792-9c55-4a02fc7e98bc",
   "metadata": {},
   "outputs": [],
   "source": []
  }
 ],
 "metadata": {
  "kernelspec": {
   "display_name": "Python 3 (ipykernel)",
   "language": "python",
   "name": "python3"
  },
  "language_info": {
   "codemirror_mode": {
    "name": "ipython",
    "version": 3
   },
   "file_extension": ".py",
   "mimetype": "text/x-python",
   "name": "python",
   "nbconvert_exporter": "python",
   "pygments_lexer": "ipython3",
   "version": "3.9.12"
  }
 },
 "nbformat": 4,
 "nbformat_minor": 5
}
