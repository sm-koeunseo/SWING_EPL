{
 "cells": [
  {
   "cell_type": "code",
   "execution_count": null,
   "id": "3eb0ce68",
   "metadata": {},
   "outputs": [],
   "source": [
    "import requests\n",
    "import pprint\n",
    "\n",
    "#인증키 입력\n",
    "encoding = '2DyivsqWeNBoeWANHhP7KaPEZtbzk%2BwPThXdnxGZMENx%2Fbbv1hf%2BQbxishixOOjNF38wjt33eOkprCudRu0K%2Fw%3D%3D'\n",
    "decoding = '2DyivsqWeNBoeWANHhP7KaPEZtbzk+wPThXdnxGZMENx/bbv1hf+QbxishixOOjNF38wjt33eOkprCudRu0K/w=='\n",
    "\n",
    "url = 'http://apis.data.go.kr/B500001/drghtSGIIdex_20211020/operInfoList_20211020'\n",
    "params ={'serviceKey' : '서비스키', \n",
    "         'pageNo' : '1', 'numOfRows' : '50', \n",
    "         'obsrvtCd' : '11749', 'stDt' : '20180101', \n",
    "         'edDt' : '20181231', \n",
    "         '_type' : 'xml' }\n",
    "\n",
    "response = requests.get(url, params=params)\n",
    "print(response.content)\n",
    "\n",
    "content = response.text\n",
    "\n",
    "# 깔끔한 출력 위한 코드\n",
    "pp = pprint.PrettyPrinter(indent=4)\n",
    "#print(pp.pprint(content))\n",
    "\n",
    "from os import name\n",
    "import xml.etree.ElementTree as et\n",
    "import pandas as pd\n",
    "import bs4\n",
    "from lxml import html\n",
    "from urllib.parse import urlencode, quote_plus, unquote\n",
    "\n",
    "\"\"\"\n",
    "resultCode : 결과코드\n",
    "resultMsg: \t결과메시지\n",
    "numOfRows: \t한 페이지 결과 수\n",
    "pageNo: \t페이지 수\n",
    "totalCount: \t데이터 총수\n",
    "obsrvtcd: 관측소 코드\n",
    "obsrvtnm: 관측소 명칭\n",
    "anldt: 분석일자\n",
    "ugrwtrl: 지하수위\n",
    "anlrst: 분석결과\n",
    "\n",
    "\"\"\" \n",
    "\n",
    "xml_obj = bs4.BeautifulSoup(content,'lxml-xml')\n",
    "rows = xml_obj.findAll('item')\n",
    "print(rows)"
   ]
  },
  {
   "cell_type": "code",
   "execution_count": null,
   "id": "75d49791",
   "metadata": {},
   "outputs": [],
   "source": []
  }
 ],
 "metadata": {
  "kernelspec": {
   "display_name": "Python 3 (ipykernel)",
   "language": "python",
   "name": "python3"
  },
  "language_info": {
   "codemirror_mode": {
    "name": "ipython",
    "version": 3
   },
   "file_extension": ".py",
   "mimetype": "text/x-python",
   "name": "python",
   "nbconvert_exporter": "python",
   "pygments_lexer": "ipython3",
   "version": "3.10.9"
  }
 },
 "nbformat": 4,
 "nbformat_minor": 5
}
