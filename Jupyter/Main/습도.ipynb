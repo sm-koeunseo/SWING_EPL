{
 "cells": [
  {
   "cell_type": "code",
   "execution_count": 24,
   "id": "9bbb8615-5ad4-4beb-9e89-4fa958352c1c",
   "metadata": {},
   "outputs": [
    {
     "data": {
      "text/html": [
       "<div>\n",
       "<style scoped>\n",
       "    .dataframe tbody tr th:only-of-type {\n",
       "        vertical-align: middle;\n",
       "    }\n",
       "\n",
       "    .dataframe tbody tr th {\n",
       "        vertical-align: top;\n",
       "    }\n",
       "\n",
       "    .dataframe thead th {\n",
       "        text-align: right;\n",
       "    }\n",
       "</style>\n",
       "<table border=\"1\" class=\"dataframe\">\n",
       "  <thead>\n",
       "    <tr style=\"text-align: right;\">\n",
       "      <th></th>\n",
       "      <th>지역번호</th>\n",
       "      <th>지역명</th>\n",
       "      <th>일시</th>\n",
       "      <th>평균습도(%rh)</th>\n",
       "      <th>최저습도(%rh)</th>\n",
       "      <th>최저습도지점</th>\n",
       "      <th>최저2</th>\n",
       "      <th>최저3</th>\n",
       "    </tr>\n",
       "  </thead>\n",
       "  <tbody>\n",
       "    <tr>\n",
       "      <th>0</th>\n",
       "      <td>0</td>\n",
       "      <td>전국</td>\n",
       "      <td>2023-07</td>\n",
       "      <td>NaN</td>\n",
       "      <td>25</td>\n",
       "      <td>태백</td>\n",
       "      <td>NaN</td>\n",
       "      <td>NaN</td>\n",
       "    </tr>\n",
       "    <tr>\n",
       "      <th>1</th>\n",
       "      <td>0</td>\n",
       "      <td>전국</td>\n",
       "      <td>2023-06</td>\n",
       "      <td>75.0</td>\n",
       "      <td>15</td>\n",
       "      <td>고창</td>\n",
       "      <td>NaN</td>\n",
       "      <td>NaN</td>\n",
       "    </tr>\n",
       "    <tr>\n",
       "      <th>2</th>\n",
       "      <td>0</td>\n",
       "      <td>전국</td>\n",
       "      <td>2023-05</td>\n",
       "      <td>69.0</td>\n",
       "      <td>8</td>\n",
       "      <td>합천</td>\n",
       "      <td>NaN</td>\n",
       "      <td>NaN</td>\n",
       "    </tr>\n",
       "    <tr>\n",
       "      <th>3</th>\n",
       "      <td>0</td>\n",
       "      <td>전국</td>\n",
       "      <td>2023-04</td>\n",
       "      <td>62.0</td>\n",
       "      <td>1</td>\n",
       "      <td>광주</td>\n",
       "      <td>NaN</td>\n",
       "      <td>NaN</td>\n",
       "    </tr>\n",
       "    <tr>\n",
       "      <th>4</th>\n",
       "      <td>0</td>\n",
       "      <td>전국</td>\n",
       "      <td>2023-03</td>\n",
       "      <td>55.0</td>\n",
       "      <td>1</td>\n",
       "      <td>광주</td>\n",
       "      <td>정선군</td>\n",
       "      <td>의령군</td>\n",
       "    </tr>\n",
       "  </tbody>\n",
       "</table>\n",
       "</div>"
      ],
      "text/plain": [
       "   지역번호 지역명        일시  평균습도(%rh)  최저습도(%rh) 최저습도지점  최저2  최저3\n",
       "0     0  전국   2023-07        NaN         25     태백  NaN  NaN\n",
       "1     0  전국   2023-06       75.0         15     고창  NaN  NaN\n",
       "2     0  전국   2023-05       69.0          8     합천  NaN  NaN\n",
       "3     0  전국   2023-04       62.0          1     광주  NaN  NaN\n",
       "4     0  전국   2023-03       55.0          1     광주  정선군  의령군"
      ]
     },
     "execution_count": 24,
     "metadata": {},
     "output_type": "execute_result"
    }
   ],
   "source": [
    "import pandas as pd\n",
    "df = pd.read_csv('humidity3.csv', encoding='cp949')\n",
    "df.head()"
   ]
  },
  {
   "cell_type": "code",
   "execution_count": 25,
   "id": "fe8b8ed1-5426-4268-bb6d-0a22301cf6cd",
   "metadata": {},
   "outputs": [
    {
     "data": {
      "text/html": [
       "<div>\n",
       "<style scoped>\n",
       "    .dataframe tbody tr th:only-of-type {\n",
       "        vertical-align: middle;\n",
       "    }\n",
       "\n",
       "    .dataframe tbody tr th {\n",
       "        vertical-align: top;\n",
       "    }\n",
       "\n",
       "    .dataframe thead th {\n",
       "        text-align: right;\n",
       "    }\n",
       "</style>\n",
       "<table border=\"1\" class=\"dataframe\">\n",
       "  <thead>\n",
       "    <tr style=\"text-align: right;\">\n",
       "      <th></th>\n",
       "      <th>지역번호</th>\n",
       "      <th>지역명</th>\n",
       "      <th>일시</th>\n",
       "      <th>평균습도(%rh)</th>\n",
       "      <th>최저습도(%rh)</th>\n",
       "      <th>최저습도지점</th>\n",
       "      <th>최저2</th>\n",
       "      <th>최저3</th>\n",
       "    </tr>\n",
       "  </thead>\n",
       "  <tbody>\n",
       "    <tr>\n",
       "      <th>14</th>\n",
       "      <td>0</td>\n",
       "      <td>전국</td>\n",
       "      <td>2022-05</td>\n",
       "      <td>57.0</td>\n",
       "      <td>1</td>\n",
       "      <td>정선군</td>\n",
       "      <td>NaN</td>\n",
       "      <td>NaN</td>\n",
       "    </tr>\n",
       "    <tr>\n",
       "      <th>40</th>\n",
       "      <td>0</td>\n",
       "      <td>전국</td>\n",
       "      <td>2020-03</td>\n",
       "      <td>60.0</td>\n",
       "      <td>1</td>\n",
       "      <td>광주</td>\n",
       "      <td>NaN</td>\n",
       "      <td>NaN</td>\n",
       "    </tr>\n",
       "    <tr>\n",
       "      <th>27</th>\n",
       "      <td>0</td>\n",
       "      <td>전국</td>\n",
       "      <td>2021-04</td>\n",
       "      <td>59.0</td>\n",
       "      <td>1</td>\n",
       "      <td>의령군</td>\n",
       "      <td>NaN</td>\n",
       "      <td>NaN</td>\n",
       "    </tr>\n",
       "    <tr>\n",
       "      <th>3</th>\n",
       "      <td>0</td>\n",
       "      <td>전국</td>\n",
       "      <td>2023-04</td>\n",
       "      <td>62.0</td>\n",
       "      <td>1</td>\n",
       "      <td>광주</td>\n",
       "      <td>NaN</td>\n",
       "      <td>NaN</td>\n",
       "    </tr>\n",
       "    <tr>\n",
       "      <th>4</th>\n",
       "      <td>0</td>\n",
       "      <td>전국</td>\n",
       "      <td>2023-03</td>\n",
       "      <td>55.0</td>\n",
       "      <td>1</td>\n",
       "      <td>광주</td>\n",
       "      <td>정선군</td>\n",
       "      <td>의령군</td>\n",
       "    </tr>\n",
       "  </tbody>\n",
       "</table>\n",
       "</div>"
      ],
      "text/plain": [
       "    지역번호 지역명        일시  평균습도(%rh)  최저습도(%rh) 최저습도지점  최저2  최저3\n",
       "14     0  전국   2022-05       57.0          1    정선군  NaN  NaN\n",
       "40     0  전국   2020-03       60.0          1     광주  NaN  NaN\n",
       "27     0  전국   2021-04       59.0          1    의령군  NaN  NaN\n",
       "3      0  전국   2023-04       62.0          1     광주  NaN  NaN\n",
       "4      0  전국   2023-03       55.0          1     광주  정선군  의령군"
      ]
     },
     "execution_count": 25,
     "metadata": {},
     "output_type": "execute_result"
    }
   ],
   "source": [
    "sorted_df = df.sort_values(by='최저습도(%rh)')\n",
    "sorted_df.head()"
   ]
  },
  {
   "cell_type": "code",
   "execution_count": 26,
   "id": "c82ebf3c-95a3-4053-a895-3f8bf5ce51a9",
   "metadata": {},
   "outputs": [
    {
     "name": "stdout",
     "output_type": "stream",
     "text": [
      "함양군    8\n",
      "의령군    7\n",
      "정선군    4\n",
      "광주     4\n",
      "청송군    3\n",
      "대구     3\n",
      "고창     2\n",
      "태백     2\n",
      "구미     2\n",
      "밀양     2\n",
      "진주     2\n",
      "북강릉    2\n",
      "북춘천    1\n",
      "속초     1\n",
      "원주     1\n",
      "추풍령    1\n",
      "북창원    1\n",
      "인천     1\n",
      "부안     1\n",
      "창원     1\n",
      "성산     1\n",
      "백령도    1\n",
      "청주     1\n",
      "대관령    1\n",
      "합천     1\n",
      "영월     1\n",
      "dtype: int64\n"
     ]
    }
   ],
   "source": [
    "combined_df = pd.concat([df['최저습도지점'], df['최저2'], df['최저3']])\n",
    "count_df = combined_df.value_counts()\n",
    "print(count_df)"
   ]
  },
  {
   "cell_type": "code",
   "execution_count": 29,
   "id": "4a756b68-7b6b-428b-8d32-e04dd108cd1f",
   "metadata": {},
   "outputs": [],
   "source": [
    "from matplotlib import pyplot as plt\n",
    "import numpy as np\n",
    "%matplotlib inline\n",
    "plt.rcParams[\"font.family\"] = 'Malgun Gothic'\n",
    "plt.rcParams[\"font.size\"] = 15\n",
    "plt.rcParams[\"figure.figsize\"] = (30, 8)"
   ]
  },
  {
   "cell_type": "code",
   "execution_count": 30,
   "id": "e4dfe458-e802-4ab1-a758-811966358188",
   "metadata": {},
   "outputs": [
    {
     "data": {
      "image/png": "[encoded data removed]",
      "text/plain": [
       "<Figure size 2160x576 with 1 Axes>"
      ]
     },
     "metadata": {
      "needs_background": "light"
     },
     "output_type": "display_data"
    }
   ],
   "source": [
    "plt.bar(count_df.index, count_df.values)\n",
    "plt.xlabel('지역명')\n",
    "plt.ylabel('빈도수')\n",
    "plt.title('최저습도지점 빈도수')\n",
    "plt.xticks(rotation=90)\n",
    "plt.show()"
   ]
  },
  {
   "cell_type": "code",
   "execution_count": null,
   "id": "92fcdb4a-6aa0-4a41-b53c-c8f8a0983857",
   "metadata": {},
   "outputs": [],
   "source": []
  }
 ],
 "metadata": {
  "kernelspec": {
   "display_name": "Python 3 (ipykernel)",
   "language": "python",
   "name": "python3"
  },
  "language_info": {
   "codemirror_mode": {
    "name": "ipython",
    "version": 3
   },
   "file_extension": ".py",
   "mimetype": "text/x-python",
   "name": "python",
   "nbconvert_exporter": "python",
   "pygments_lexer": "ipython3",
   "version": "3.9.12"
  }
 },
 "nbformat": 4,
 "nbformat_minor": 5
}
