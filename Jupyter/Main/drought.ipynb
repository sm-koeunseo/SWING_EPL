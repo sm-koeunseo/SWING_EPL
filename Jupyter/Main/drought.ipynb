{
 "cells": [
  {
   "cell_type": "code",
   "execution_count": 1,
   "id": "4167ea78-4ae3-4a85-943d-2ad8afbd653b",
   "metadata": {},
   "outputs": [],
   "source": [
    "import pandas as pd\n",
    "import numpy as np"
   ]
  },
  {
   "cell_type": "code",
   "execution_count": 2,
   "id": "7b5cd53f-5394-4457-8583-fdafc0edbf94",
   "metadata": {},
   "outputs": [],
   "source": [
    "dr= pd.read_csv('koreadrought.csv', encoding='cp949', low_memory = False)"
   ]
  },
  {
   "cell_type": "code",
   "execution_count": 3,
   "id": "4393ba09-9c6a-473a-978b-b3a4a703addd",
   "metadata": {},
   "outputs": [],
   "source": [
    "dr = dr.drop(['피해종료일'], axis = 1)"
   ]
  },
  {
   "cell_type": "code",
   "execution_count": 4,
   "id": "92403c8d-76fe-48cd-a69e-fb5975f10b8d",
   "metadata": {},
   "outputs": [
    {
     "name": "stdout",
     "output_type": "stream",
     "text": [
      "<class 'pandas.core.frame.DataFrame'>\n",
      "RangeIndex: 1634 entries, 0 to 1633\n",
      "Data columns (total 7 columns):\n",
      " #   Column  Non-Null Count  Dtype \n",
      "---  ------  --------------  ----- \n",
      " 0   시도      1634 non-null   object\n",
      " 1   시군구     1634 non-null   object\n",
      " 2   읍면동     1634 non-null   object\n",
      " 3   피해유형    1634 non-null   object\n",
      " 4   피해인구    1634 non-null   int64 \n",
      " 5   피해시작일   1634 non-null   object\n",
      " 6   피해일수    1634 non-null   object\n",
      "dtypes: int64(1), object(6)\n",
      "memory usage: 89.5+ KB\n"
     ]
    }
   ],
   "source": [
    "dr.info()"
   ]
  },
  {
   "cell_type": "code",
   "execution_count": 5,
   "id": "1ef156bc-a449-4aca-a697-458479657e61",
   "metadata": {},
   "outputs": [],
   "source": [
    "dr.drop(dr[(dr['피해일수'] == '#NUM!')].index, inplace=True)"
   ]
  },
  {
   "cell_type": "code",
   "execution_count": 6,
   "id": "a9a3b394-c71a-49b9-b2e4-aa9ae321efc4",
   "metadata": {},
   "outputs": [
    {
     "data": {
      "text/html": [
       "<div>\n",
       "<style scoped>\n",
       "    .dataframe tbody tr th:only-of-type {\n",
       "        vertical-align: middle;\n",
       "    }\n",
       "\n",
       "    .dataframe tbody tr th {\n",
       "        vertical-align: top;\n",
       "    }\n",
       "\n",
       "    .dataframe thead th {\n",
       "        text-align: right;\n",
       "    }\n",
       "</style>\n",
       "<table border=\"1\" class=\"dataframe\">\n",
       "  <thead>\n",
       "    <tr style=\"text-align: right;\">\n",
       "      <th></th>\n",
       "      <th>시도</th>\n",
       "      <th>시군구</th>\n",
       "      <th>읍면동</th>\n",
       "      <th>피해유형</th>\n",
       "      <th>피해인구</th>\n",
       "      <th>피해시작일</th>\n",
       "      <th>피해일수</th>\n",
       "    </tr>\n",
       "  </thead>\n",
       "  <tbody>\n",
       "    <tr>\n",
       "      <th>0</th>\n",
       "      <td>전라남도</td>\n",
       "      <td>완도군</td>\n",
       "      <td>청산면</td>\n",
       "      <td>제한급수</td>\n",
       "      <td>1200</td>\n",
       "      <td>2007-10-15</td>\n",
       "      <td>189</td>\n",
       "    </tr>\n",
       "    <tr>\n",
       "      <th>1</th>\n",
       "      <td>전라남도</td>\n",
       "      <td>완도군</td>\n",
       "      <td>보길면</td>\n",
       "      <td>제한급수</td>\n",
       "      <td>1800</td>\n",
       "      <td>2007-12-10</td>\n",
       "      <td>170</td>\n",
       "    </tr>\n",
       "    <tr>\n",
       "      <th>2</th>\n",
       "      <td>전라남도</td>\n",
       "      <td>완도군</td>\n",
       "      <td>노화읍</td>\n",
       "      <td>제한급수</td>\n",
       "      <td>1500</td>\n",
       "      <td>2007-12-10</td>\n",
       "      <td>170</td>\n",
       "    </tr>\n",
       "    <tr>\n",
       "      <th>3</th>\n",
       "      <td>경상북도</td>\n",
       "      <td>의성군</td>\n",
       "      <td>사곡면</td>\n",
       "      <td>운반급수</td>\n",
       "      <td>88</td>\n",
       "      <td>2008-01-08</td>\n",
       "      <td>91</td>\n",
       "    </tr>\n",
       "    <tr>\n",
       "      <th>4</th>\n",
       "      <td>전라남도</td>\n",
       "      <td>완도군</td>\n",
       "      <td>소안면</td>\n",
       "      <td>제한급수</td>\n",
       "      <td>2458</td>\n",
       "      <td>2008-02-12</td>\n",
       "      <td>106</td>\n",
       "    </tr>\n",
       "  </tbody>\n",
       "</table>\n",
       "</div>"
      ],
      "text/plain": [
       "     시도  시군구  읍면동  피해유형  피해인구       피해시작일 피해일수\n",
       "0  전라남도  완도군  청산면  제한급수  1200  2007-10-15  189\n",
       "1  전라남도  완도군  보길면  제한급수  1800  2007-12-10  170\n",
       "2  전라남도  완도군  노화읍  제한급수  1500  2007-12-10  170\n",
       "3  경상북도  의성군  사곡면  운반급수    88  2008-01-08   91\n",
       "4  전라남도  완도군  소안면  제한급수  2458  2008-02-12  106"
      ]
     },
     "execution_count": 6,
     "metadata": {},
     "output_type": "execute_result"
    }
   ],
   "source": [
    "dr.head()"
   ]
  },
  {
   "cell_type": "code",
   "execution_count": 7,
   "id": "f6b0f980-afb9-416f-8166-db71d2855977",
   "metadata": {},
   "outputs": [
    {
     "data": {
      "text/plain": [
       "array(['전라남도', '경상북도', '강원도', '경상남도', '전라북도', '경기도', '울산광역시', '충청북도',\n",
       "       '충청남도', '인천광역시', '세종특별자치시', '광주광역시'], dtype=object)"
      ]
     },
     "execution_count": 7,
     "metadata": {},
     "output_type": "execute_result"
    }
   ],
   "source": [
    "dr['시도'].unique()"
   ]
  },
  {
   "cell_type": "code",
   "execution_count": 8,
   "id": "44aa2aef-f4db-4801-8e75-aa23041d5940",
   "metadata": {},
   "outputs": [
    {
     "data": {
      "text/html": [
       "<div>\n",
       "<style scoped>\n",
       "    .dataframe tbody tr th:only-of-type {\n",
       "        vertical-align: middle;\n",
       "    }\n",
       "\n",
       "    .dataframe tbody tr th {\n",
       "        vertical-align: top;\n",
       "    }\n",
       "\n",
       "    .dataframe thead th {\n",
       "        text-align: right;\n",
       "    }\n",
       "</style>\n",
       "<table border=\"1\" class=\"dataframe\">\n",
       "  <thead>\n",
       "    <tr style=\"text-align: right;\">\n",
       "      <th></th>\n",
       "      <th>시도</th>\n",
       "      <th>시군구</th>\n",
       "      <th>읍면동</th>\n",
       "      <th>피해유형</th>\n",
       "      <th>피해인구</th>\n",
       "      <th>피해시작일</th>\n",
       "      <th>피해일수</th>\n",
       "    </tr>\n",
       "  </thead>\n",
       "  <tbody>\n",
       "    <tr>\n",
       "      <th>1633</th>\n",
       "      <td>강원도</td>\n",
       "      <td>춘천시</td>\n",
       "      <td>사북면</td>\n",
       "      <td>운반급수</td>\n",
       "      <td>95</td>\n",
       "      <td>2020-12-31</td>\n",
       "      <td>29</td>\n",
       "    </tr>\n",
       "    <tr>\n",
       "      <th>1499</th>\n",
       "      <td>강원도</td>\n",
       "      <td>원주시</td>\n",
       "      <td>행구동</td>\n",
       "      <td>운반급수</td>\n",
       "      <td>500</td>\n",
       "      <td>2019-10-25</td>\n",
       "      <td>0</td>\n",
       "    </tr>\n",
       "    <tr>\n",
       "      <th>421</th>\n",
       "      <td>강원도</td>\n",
       "      <td>삼척시</td>\n",
       "      <td>신기면</td>\n",
       "      <td>운반급수</td>\n",
       "      <td>199</td>\n",
       "      <td>2015-06-15</td>\n",
       "      <td>11</td>\n",
       "    </tr>\n",
       "    <tr>\n",
       "      <th>419</th>\n",
       "      <td>강원도</td>\n",
       "      <td>정선군</td>\n",
       "      <td>임계면</td>\n",
       "      <td>운반급수</td>\n",
       "      <td>81</td>\n",
       "      <td>2015-06-15</td>\n",
       "      <td>11</td>\n",
       "    </tr>\n",
       "    <tr>\n",
       "      <th>417</th>\n",
       "      <td>강원도</td>\n",
       "      <td>정선군</td>\n",
       "      <td>임계면</td>\n",
       "      <td>운반급수</td>\n",
       "      <td>32</td>\n",
       "      <td>2015-06-15</td>\n",
       "      <td>11</td>\n",
       "    </tr>\n",
       "    <tr>\n",
       "      <th>...</th>\n",
       "      <td>...</td>\n",
       "      <td>...</td>\n",
       "      <td>...</td>\n",
       "      <td>...</td>\n",
       "      <td>...</td>\n",
       "      <td>...</td>\n",
       "      <td>...</td>\n",
       "    </tr>\n",
       "    <tr>\n",
       "      <th>1175</th>\n",
       "      <td>충청북도</td>\n",
       "      <td>충주시</td>\n",
       "      <td>교현·안림동</td>\n",
       "      <td>운반급수</td>\n",
       "      <td>85</td>\n",
       "      <td>2018-02-06</td>\n",
       "      <td>0</td>\n",
       "    </tr>\n",
       "    <tr>\n",
       "      <th>1407</th>\n",
       "      <td>충청북도</td>\n",
       "      <td>제천시</td>\n",
       "      <td>송학면</td>\n",
       "      <td>운반급수</td>\n",
       "      <td>152</td>\n",
       "      <td>2019-06-21</td>\n",
       "      <td>102</td>\n",
       "    </tr>\n",
       "    <tr>\n",
       "      <th>1406</th>\n",
       "      <td>충청북도</td>\n",
       "      <td>충주시</td>\n",
       "      <td>교현·안림동</td>\n",
       "      <td>운반급수</td>\n",
       "      <td>85</td>\n",
       "      <td>2019-06-20</td>\n",
       "      <td>30</td>\n",
       "    </tr>\n",
       "    <tr>\n",
       "      <th>1474</th>\n",
       "      <td>충청북도</td>\n",
       "      <td>충주시</td>\n",
       "      <td>교현·안림동</td>\n",
       "      <td>운반급수</td>\n",
       "      <td>24</td>\n",
       "      <td>2019-08-05</td>\n",
       "      <td>1</td>\n",
       "    </tr>\n",
       "    <tr>\n",
       "      <th>680</th>\n",
       "      <td>충청북도</td>\n",
       "      <td>충주시</td>\n",
       "      <td>앙성면</td>\n",
       "      <td>운반급수</td>\n",
       "      <td>13</td>\n",
       "      <td>2017-01-02</td>\n",
       "      <td>0</td>\n",
       "    </tr>\n",
       "  </tbody>\n",
       "</table>\n",
       "<p>1567 rows × 7 columns</p>\n",
       "</div>"
      ],
      "text/plain": [
       "        시도  시군구     읍면동  피해유형  피해인구       피해시작일 피해일수\n",
       "1633   강원도  춘천시     사북면  운반급수    95  2020-12-31   29\n",
       "1499   강원도  원주시     행구동  운반급수   500  2019-10-25    0\n",
       "421    강원도  삼척시     신기면  운반급수   199  2015-06-15   11\n",
       "419    강원도  정선군     임계면  운반급수    81  2015-06-15   11\n",
       "417    강원도  정선군     임계면  운반급수    32  2015-06-15   11\n",
       "...    ...  ...     ...   ...   ...         ...  ...\n",
       "1175  충청북도  충주시  교현·안림동  운반급수    85  2018-02-06    0\n",
       "1407  충청북도  제천시     송학면  운반급수   152  2019-06-21  102\n",
       "1406  충청북도  충주시  교현·안림동  운반급수    85  2019-06-20   30\n",
       "1474  충청북도  충주시  교현·안림동  운반급수    24  2019-08-05    1\n",
       "680   충청북도  충주시     앙성면  운반급수    13  2017-01-02    0\n",
       "\n",
       "[1567 rows x 7 columns]"
      ]
     },
     "execution_count": 8,
     "metadata": {},
     "output_type": "execute_result"
    }
   ],
   "source": [
    "dr.sort_values(by=['시도'])"
   ]
  },
  {
   "cell_type": "code",
   "execution_count": 9,
   "id": "7b79615a-551a-4963-ba7f-8a5cf89add8e",
   "metadata": {},
   "outputs": [],
   "source": [
    "import seaborn as sns"
   ]
  },
  {
   "cell_type": "code",
   "execution_count": 18,
   "id": "dc32b515-27fa-4596-b4f9-499b3c424523",
   "metadata": {},
   "outputs": [],
   "source": [
    "jeonnam = len(dr.loc[dr['시도'] == '전라남도']) + len(dr.loc[dr['시도'] == '광주광역시'])\n",
    "gyeongbuk = len(dr.loc[dr['시도'] == '경상북도']) + len(dr.loc[dr['시도'] == '울산광역시'])\n",
    "gangwon = len(dr.loc[dr['시도'] == '강원도'])\n",
    "gyeongnam = len(dr.loc[dr['시도'] == '경상남도'])\n",
    "jeonbuk = len(dr.loc[dr['시도'] == '전라북도'])\n",
    "gyeonggi = len(dr.loc[dr['시도'] == '경기도']) + len(dr.loc[dr['시도'] == '인천광역시'])\n",
    "chungbuk = len(dr.loc[dr['시도'] == '충청북도']) \n",
    "chungnam = len(dr.loc[dr['시도'] == '충청남도']) + len(dr.loc[dr['시도'] == '세종특별자치시'])"
   ]
  },
  {
   "cell_type": "code",
   "execution_count": null,
   "id": "87e45c85-0376-4d02-a367-5e76db2dbec4",
   "metadata": {},
   "outputs": [],
   "source": [
    "# 데이터\n",
    "kor = []\n",
    "kor = {\"jeonnam\": jeonnam, \"gyeongbuk\": gyeongbuk, \"gangwon\": gangwon, \"gyeongnam\": gyeongnam, \"jeonbuk\": jeonbuk, \"gyeonggi\": gyeonggi, \"chungbuk\": chungbuk, \"chungnam\": chungnam}\n",
    "kor"
   ]
  },
  {
   "cell_type": "code",
   "execution_count": 23,
   "id": "75752d35-8e3e-4116-93ce-26d963af6ce2",
   "metadata": {},
   "outputs": [
    {
     "data": {
      "image/png": "[encoded data removed]",
      "text/plain": [
       "<Figure size 1080x576 with 1 Axes>"
      ]
     },
     "metadata": {
      "needs_background": "light"
     },
     "output_type": "display_data"
    }
   ],
   "source": [
    "import matplotlib.pyplot as plt\n",
    "\n",
    "# 데이터\n",
    "data = {\n",
    "    '시도': ['jeonnam', 'gyeongbuk', 'gangwon', 'gyeongnam', 'jeonbuk', 'gyeonggi', 'chungbuk', 'chungnam'],\n",
    "    '가뭄발생수': [jeonnam, gyeongbuk, gangwon, gyeongnam, jeonbuk, gyeonggi, chungbuk, chungnam]   \n",
    "}\n",
    "\n",
    "# 그래프 생성\n",
    "plt.figure(figsize=(15, 8))\n",
    "colors = ['b', 'g', 'r', 'c', 'm', 'y', 'k', 'gray', 'orange', 'purple', 'brown', 'pink', 'olive', 'teal', 'gold', 'navy', 'lime']\n",
    "plt.bar(data['시도'], data['가뭄발생수'], color=colors)\n",
    "plt.xlabel('District', fontsize=15)\n",
    "plt.ylabel('Drought', fontsize=15)\n",
    "plt.title('Drought of Each District', fontsize=20)\n",
    "\n",
    "plt.xticks(fontsize=15)\n",
    "\n",
    "# 그래프 출력\n",
    "plt.show()"
   ]
  },
  {
   "cell_type": "code",
   "execution_count": 16,
   "id": "03713f27-bdb9-460b-95b5-4f42150d30fe",
   "metadata": {},
   "outputs": [],
   "source": [
    "h = dr.sort_values(by=['피해시작일'], ascending = False)"
   ]
  },
  {
   "cell_type": "code",
   "execution_count": null,
   "id": "663306fd-cb09-4ca6-bd37-bc8e66ef1fbe",
   "metadata": {},
   "outputs": [],
   "source": [
    "dr = dr.copy()\n",
    "\n",
    "# '피해시작일' 열을 datetime 형식으로 변환\n",
    "dr['피해시작일'] = pd.to_datetime(dr['피해시작일'], format='%Y.%m.%d')\n",
    "\n",
    "# '피해시작일' 열을 '%Y-%m' 형식으로 변경\n",
    "dr['피해시작일'] = dr['피해시작일'].dt.year\n",
    "\n",
    "# '시도', '시군구', '피해시작일' 열을 기준으로 그룹화하여 평균 계산\n",
    "data = dr.groupby(['시도', '시군구', '피해시작일']).size().reset_index(name='발생횟수')\n",
    "data"
   ]
  },
  {
   "cell_type": "code",
   "execution_count": null,
   "id": "bf7b3e17-2008-415e-8eea-7f54d1e109cf",
   "metadata": {},
   "outputs": [],
   "source": [
    "data.to_csv('drought.csv', index=False, encoding='utf-8')"
   ]
  },
  {
   "cell_type": "code",
   "execution_count": null,
   "id": "bc336557-d47d-4584-af09-2b1d02d06ce8",
   "metadata": {},
   "outputs": [],
   "source": [
    "# 전라남도에 해당하는 행 추출\n",
    "jeonnam_data = data[data['시도'] == '전라남도']\n",
    "\n",
    "# 그래프 크기 설정\n",
    "plt.figure(figsize=(10, 6))\n",
    "\n",
    "# 막대 그래프 그리기\n",
    "plt.bar(jeonnam_data['피해시작일'], jeonnam_data['발생횟수'])\n",
    "\n",
    "# x축, y축 라벨 설정\n",
    "plt.xlabel('날짜')\n",
    "plt.ylabel('발생횟수')\n",
    "\n",
    "# 그래프 제목 설정\n",
    "plt.title('전라남도 날짜별 발생횟수')\n",
    "\n",
    "# x축 눈금 라벨 설정\n",
    "plt.xticks(rotation=45)\n",
    "\n",
    "# 그래프 표시\n",
    "plt.show()"
   ]
  },
  {
   "cell_type": "code",
   "execution_count": null,
   "id": "46557f9c-e602-40b6-8af4-c19c767ca164",
   "metadata": {},
   "outputs": [],
   "source": [
    "dr_jn = pd.read_csv('drought1.csv')"
   ]
  },
  {
   "cell_type": "code",
   "execution_count": null,
   "id": "99c3e109-2a4e-40bf-8b8a-af9ce069b2fa",
   "metadata": {},
   "outputs": [],
   "source": [
    "dr_jn = data[data['시도'] == '전라남도']\n",
    "dr_jn"
   ]
  },
  {
   "cell_type": "code",
   "execution_count": null,
   "id": "f5939bba-4e82-4f81-bf1b-6947e50e06bd",
   "metadata": {},
   "outputs": [],
   "source": []
  }
 ],
 "metadata": {
  "kernelspec": {
   "display_name": "Python 3 (ipykernel)",
   "language": "python",
   "name": "python3"
  },
  "language_info": {
   "codemirror_mode": {
    "name": "ipython",
    "version": 3
   },
   "file_extension": ".py",
   "mimetype": "text/x-python",
   "name": "python",
   "nbconvert_exporter": "python",
   "pygments_lexer": "ipython3",
   "version": "3.9.12"
  }
 },
 "nbformat": 4,
 "nbformat_minor": 5
}
